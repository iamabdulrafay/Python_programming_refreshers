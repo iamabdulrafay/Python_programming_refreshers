{
 "cells": [
  {
   "cell_type": "markdown",
   "id": "6073440b-3438-4366-94d2-0e1ee58b8ab2",
   "metadata": {},
   "source": [
    "# 1.\n",
    "\n",
    "**Find the Median of Three Numbers**"
   ]
  },
  {
   "cell_type": "code",
   "execution_count": 7,
   "id": "0279d891-daa9-4db1-93a7-1ecc32bb95e6",
   "metadata": {},
   "outputs": [
    {
     "name": "stdin",
     "output_type": "stream",
     "text": [
      "Enter The First Number 5\n",
      "Enter The Second Number 6\n",
      "Enter The Third Number 4\n"
     ]
    },
    {
     "data": {
      "text/plain": [
       "5"
      ]
     },
     "execution_count": 7,
     "metadata": {},
     "output_type": "execute_result"
    }
   ],
   "source": [
    "numbers_list=[] #number list to find the lenght of list\n",
    "def median():\n",
    "    try:\n",
    "        number1=int(input(\"Enter The First Number\"))\n",
    "        number2=int(input(\"Enter The Second Number\"))\n",
    "        number3=int(input(\"Enter The Third Number\")) \n",
    "     \n",
    "        numbers_list.append(number1)\n",
    "        numbers_list.append(number2)\n",
    "        numbers_list.append(number3) \n",
    "        numbers_list.sort()\n",
    "        mean_calculation=numbers_list[1]\n",
    "        return mean_calculation\n",
    "\n",
    "    except ValueError as ve:\n",
    "        print(f\"{ve}\")\n",
    "median()"
   ]
  },
  {
   "cell_type": "markdown",
   "id": "af6fa33d-7081-460d-905a-37b7dbd3ae5b",
   "metadata": {},
   "source": [
    "# 2.\n",
    "\n",
    "**Count the Number of Words in a Sentence**"
   ]
  },
  {
   "cell_type": "code",
   "execution_count": 16,
   "id": "7bb9fcc2-b803-4df6-81d5-ff424133d6c7",
   "metadata": {},
   "outputs": [
    {
     "name": "stdin",
     "output_type": "stream",
     "text": [
      "Enter a sentence The quick brown fox jumps over the lazy dog.\n"
     ]
    },
    {
     "name": "stdout",
     "output_type": "stream",
     "text": [
      "9\n"
     ]
    }
   ],
   "source": [
    "\n",
    "\n",
    "s=input(\"Enter a sentence\")\n",
    "\n",
    "words_count=s.split()\n",
    "# words_array.split()\n",
    "print(len(words_count))\n",
    "\n"
   ]
  },
  {
   "cell_type": "markdown",
   "id": "0578eecc-5ea7-4a42-84bd-373312e0f1e9",
   "metadata": {},
   "source": [
    "# 3.\n",
    "\n",
    "**Calculate the Sum of Digits in a Number**"
   ]
  },
  {
   "cell_type": "code",
   "execution_count": 25,
   "id": "fb689423-f2aa-467b-8665-bf6eb5ae3026",
   "metadata": {},
   "outputs": [
    {
     "name": "stdin",
     "output_type": "stream",
     "text": [
      "Enter Numbers sperated by commas 2,5,6\n"
     ]
    },
    {
     "data": {
      "text/plain": [
       "13"
      ]
     },
     "execution_count": 25,
     "metadata": {},
     "output_type": "execute_result"
    }
   ],
   "source": [
    "import numpy as np\n",
    "number_input=input(\"Enter Numbers sperated by commas\")\n",
    "\n",
    "numbers=number_input.split(\",\") \n",
    "\n",
    "numbers_list=np.array( [int (num)for num in numbers])\n",
    "\n",
    "numbers_list.sum()"
   ]
  },
  {
   "cell_type": "markdown",
   "id": "5bd379b1-2889-4429-aea6-4dcd7c1199fe",
   "metadata": {},
   "source": [
    "# 5. \n",
    "\n",
    "**Check if a Number is a Prime Number**"
   ]
  },
  {
   "cell_type": "code",
   "execution_count": 43,
   "id": "aebefc7a-051b-4e87-bab2-6098f9b69cb7",
   "metadata": {},
   "outputs": [
    {
     "name": "stdin",
     "output_type": "stream",
     "text": [
      "Enter a Number 13\n"
     ]
    },
    {
     "name": "stdout",
     "output_type": "stream",
     "text": [
      "13 is prime\n"
     ]
    }
   ],
   "source": [
    "num=int(input(\"Enter a Number\"))\n",
    "\n",
    "if num>1:\n",
    "    isprime=True\n",
    "    for i in range(2,num):\n",
    "        if num % i==0:\n",
    "            isprime=False\n",
    "            break\n",
    "    \n",
    "    if isprime:\n",
    "         print(f\"{num} is prime\")\n",
    "    else:\n",
    "         print(f\"{num}is not prime\")\n",
    "\n"
   ]
  }
 ],
 "metadata": {
  "kernelspec": {
   "display_name": "Python 3 (ipykernel)",
   "language": "python",
   "name": "python3"
  },
  "language_info": {
   "codemirror_mode": {
    "name": "ipython",
    "version": 3
   },
   "file_extension": ".py",
   "mimetype": "text/x-python",
   "name": "python",
   "nbconvert_exporter": "python",
   "pygments_lexer": "ipython3",
   "version": "3.12.2"
  }
 },
 "nbformat": 4,
 "nbformat_minor": 5
}
