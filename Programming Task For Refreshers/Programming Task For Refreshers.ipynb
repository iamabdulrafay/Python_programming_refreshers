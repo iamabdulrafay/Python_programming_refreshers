{
 "cells": [
  {
   "cell_type": "markdown",
   "id": "b0feefde-4713-49ab-9e9d-6d6f3758c261",
   "metadata": {},
   "source": [
    "# 1.\n",
    "\n",
    "**Calculate the Area of a Rectangle**\n",
    "  "
   ]
  },
  {
   "cell_type": "code",
   "execution_count": 4,
   "id": "c9569d8e-16ad-4dcd-af3f-e337f9908b54",
   "metadata": {},
   "outputs": [
    {
     "name": "stdin",
     "output_type": "stream",
     "text": [
      "enter the length of rectangle 5\n",
      "enter the width of rectangle 10\n"
     ]
    },
    {
     "name": "stdout",
     "output_type": "stream",
     "text": [
      "The Area of Rectangle is 50\n"
     ]
    }
   ],
   "source": [
    "lenght_input=int(input(\"enter the length of rectangle\")) #take lenght input from user \n",
    "width_input=int(input(\"enter the width of rectangle\")) #take width input from user \n",
    "\n",
    "def Rectangle_Area():\n",
    "    formula_calulation=lenght_input*width_input #area formula lenght*width\n",
    "    print(f\"The Area of Rectangle is {formula_calulation}\") #output shown\n",
    "Rectangle_Area()    "
   ]
  },
  {
   "cell_type": "markdown",
   "id": "d280091e-9b7d-4854-adbb-5500e05d61ef",
   "metadata": {},
   "source": [
    "# 2.\n",
    "\n",
    "**Check if a Number is Even or Odd**"
   ]
  },
  {
   "cell_type": "code",
   "execution_count": 12,
   "id": "ddd251e9-7956-4722-be77-9f7b9feb736f",
   "metadata": {},
   "outputs": [
    {
     "name": "stdin",
     "output_type": "stream",
     "text": [
      "Enter the number: 3\n"
     ]
    },
    {
     "name": "stdout",
     "output_type": "stream",
     "text": [
      "3 is odd\n"
     ]
    }
   ],
   "source": [
    "number_input=int(input(\"Enter the number:\"))\n",
    "\n",
    "def Even_Odd():\n",
    "    if number_input % 2 ==0:\n",
    "        print(f\"{number_input} is even\")\n",
    "    else:\n",
    "        print(f\"{number_input} is odd\")\n",
    "\n",
    "Even_Odd()"
   ]
  },
  {
   "cell_type": "markdown",
   "id": "c2054443-3091-4988-be3c-fabf9c7cd54a",
   "metadata": {},
   "source": [
    "# 3.\n",
    "\n",
    "\n",
    "**Reverse a String**"
   ]
  },
  {
   "cell_type": "code",
   "execution_count": 20,
   "id": "2856bfda-af8e-42c0-b979-78caa7b6b3ce",
   "metadata": {},
   "outputs": [
    {
     "name": "stdin",
     "output_type": "stream",
     "text": [
      "Enter The String: 12\n"
     ]
    },
    {
     "name": "stdout",
     "output_type": "stream",
     "text": [
      " 12 is reversed into 21 \n"
     ]
    }
   ],
   "source": [
    "\n",
    "def Reverse_String():\n",
    "    \n",
    "        string_taken=str(input(\"Enter The String:\"))\n",
    "\n",
    "        rev_result=string_taken[::-1]\n",
    "        print(f\" {string_taken} is reversed into {rev_result} \")\n",
    "\n",
    "       \n",
    "    \n",
    "Reverse_String()        "
   ]
  },
  {
   "cell_type": "markdown",
   "id": "595b3350-89f5-42f3-8a8b-f9493aa0b063",
   "metadata": {},
   "source": [
    "# 4.\n",
    "\n",
    " **Find the Factorial of a Number:**"
   ]
  },
  {
   "cell_type": "code",
   "execution_count": 27,
   "id": "537e720a-6ad0-40df-b42e-845812b01745",
   "metadata": {},
   "outputs": [
    {
     "name": "stdin",
     "output_type": "stream",
     "text": [
      "Enter the no for factorial 8\n"
     ]
    },
    {
     "name": "stdout",
     "output_type": "stream",
     "text": [
      "the factorial of 8 is 40320\n"
     ]
    }
   ],
   "source": [
    "import math\n",
    "fac_num=int(input(\"Enter the no for factorial\") )\n",
    "fac_result=math.factorial(fac_num)\n",
    "print(f\"the factorial of {fac_num} is {fac_result}\")"
   ]
  },
  {
   "cell_type": "markdown",
   "id": "62d3874e-5684-4f6b-93b4-d0d256ab19da",
   "metadata": {},
   "source": [
    "# 5.\n",
    "\n",
    "\n",
    "**Check if a String is Palindrome or Not:**\n",
    "  "
   ]
  },
  {
   "cell_type": "code",
   "execution_count": 35,
   "id": "5de28fcc-cad6-4835-9a5e-2b000f570979",
   "metadata": {},
   "outputs": [
    {
     "name": "stdin",
     "output_type": "stream",
     "text": [
      "Enter a String: haah\n"
     ]
    },
    {
     "name": "stdout",
     "output_type": "stream",
     "text": [
      " \"haah\" is palindrome word\n"
     ]
    }
   ],
   "source": [
    "user_palindrome=input(\"Enter a String:\")\n",
    "\n",
    "remove_spaces=user_palindrome.replace(\" \",\"\").lower()\n",
    "\n",
    "revrsed_check=remove_spaces[::-1]\n",
    "\n",
    "if remove_spaces==revrsed_check:\n",
    "    print(f\"\"\" \"{user_palindrome}\" is palindrome word\"\"\")\n",
    "else:\n",
    "   print(f\"\"\" \"{user_palindrome}\" is not palindrome word\"\"\")\n"
   ]
  },
  {
   "cell_type": "markdown",
   "id": "b11fd5bb-db29-41e6-b4b9-c8bbce6cbfa3",
   "metadata": {},
   "source": [
    "# 6.\n",
    "\n",
    "**Generate Fibonacci Series up to n terms:**"
   ]
  },
  {
   "cell_type": "code",
   "execution_count": 10,
   "id": "e6d0e8cc-9d5e-435a-bb1a-3e8972f6a088",
   "metadata": {
    "scrolled": true
   },
   "outputs": [
    {
     "data": {
      "text/plain": [
       "[0, 1, 1, 2, 3, 5, 8, 13, 21, 34]"
      ]
     },
     "execution_count": 10,
     "metadata": {},
     "output_type": "execute_result"
    }
   ],
   "source": [
    "def fabonacci_series(n):\n",
    "    intital_list=[0,1]\n",
    "    while len(intital_list)<n:\n",
    "        next_number=intital_list[-2]+intital_list[-1]\n",
    "        intital_list.append(next_number)\n",
    "    return intital_list    \n",
    "fabonacci_series(10)    "
   ]
  },
  {
   "cell_type": "markdown",
   "id": "99c09e09-a3db-434a-a2eb-6cd0f367e986",
   "metadata": {},
   "source": [
    "# 7.\n",
    "\n",
    "**Find the Largest Among Three Numbers:**"
   ]
  },
  {
   "cell_type": "code",
   "execution_count": 27,
   "id": "76ae31f4-1a53-4ed9-88b2-414568b90710",
   "metadata": {},
   "outputs": [
    {
     "name": "stdout",
     "output_type": "stream",
     "text": [
      "find Largest Among Three Number\n"
     ]
    },
    {
     "name": "stdin",
     "output_type": "stream",
     "text": [
      "Enter The First Number: 500\n",
      "Enter The  Second Number: 600\n",
      "Enter The Third Number: 320\n"
     ]
    },
    {
     "name": "stdout",
     "output_type": "stream",
     "text": [
      "\n",
      "\n",
      "\n",
      "the largest number between [320, 500, 600] is 600\n"
     ]
    }
   ],
   "source": [
    "print(\"find Largest Among Three Number\") \n",
    "\n",
    "number_1=int(input(\"Enter The First Number:\"))\n",
    "number_2=int(input(\"Enter The  Second Number:\"))\n",
    "number_3=int(input(\"Enter The Third Number:\"))\n",
    "\n",
    "numbers_list=[] \n",
    "\n",
    "def largrest_num(n1,n2,n3):\n",
    "    numbers_list.append(n1)\n",
    "    numbers_list.append(n2)\n",
    "    numbers_list.append(n3)\n",
    "    return numbers_list.sort()\n",
    "\n",
    "    \n",
    "\n",
    "largrest_num(number_1,number_2,number_3)\n",
    "\n",
    "\n",
    "print(f\"\\n\\n\\nthe largest number between {numbers_list} is {numbers_list[-1]}\")\n",
    "    "
   ]
  },
  {
   "cell_type": "markdown",
   "id": "5151175e-a1e0-4114-9456-d9b205a73578",
   "metadata": {},
   "source": [
    "# 8.\n",
    "\n",
    "**Calculate Simple Interest**"
   ]
  },
  {
   "cell_type": "code",
   "execution_count": 49,
   "id": "8b05a9de-4319-4c22-bb1f-beac33663075",
   "metadata": {},
   "outputs": [
    {
     "name": "stdout",
     "output_type": "stream",
     "text": [
      "                                    Calculate The Simple Intrest                                    \n"
     ]
    },
    {
     "name": "stdin",
     "output_type": "stream",
     "text": [
      "Enter the principal amount 15\n",
      "Enter the rate of amount 12\n",
      "Enter the time period in years 1\n"
     ]
    },
    {
     "name": "stdout",
     "output_type": "stream",
     "text": [
      "\n",
      "\n",
      "\n",
      "\n",
      "The simple intrest is 1.25\n"
     ]
    }
   ],
   "source": [
    "print(\"calculate the simple intrest\".center(100).title())\n",
    "\n",
    "principal_amount=float(input(\"Enter the principal amount\"))\n",
    "rate_intrest=float(input(\"Enter the rate of amount\"))\n",
    "time_period=float(input(\"Enter the time period in years\"))\n",
    "\n",
    "\n",
    "def intrest_calculate(pa,ri,tp):\n",
    "    multiplication=ri*tp\n",
    "    divison=pa/multiplication\n",
    "    print(f\"\\n\\n\\n\\nThe simple intrest is {divison}\")\n",
    "    \n",
    "intrest_calculate(principal_amount,rate_intrest,time_period)"
   ]
  },
  {
   "cell_type": "code",
   "execution_count": null,
   "id": "85132b71-ee03-4229-8d98-abd0c75018e9",
   "metadata": {},
   "outputs": [],
   "source": [
    "(c*9/5)+32"
   ]
  },
  {
   "cell_type": "markdown",
   "id": "038f54ad-4529-4cc8-938f-4a36b4ec3508",
   "metadata": {},
   "source": [
    "# 9.\n",
    "\n",
    "**Convert Celsius to Fahrenheit**\n",
    "\n"
   ]
  },
  {
   "cell_type": "code",
   "execution_count": 54,
   "id": "c0bf818f-f39a-453e-9324-becdbf5fe330",
   "metadata": {},
   "outputs": [
    {
     "name": "stdin",
     "output_type": "stream",
     "text": [
      "Enter temperature in Celsius: 40\n"
     ]
    },
    {
     "name": "stdout",
     "output_type": "stream",
     "text": [
      "Temperature in Fahrenheit:104.0\n"
     ]
    }
   ],
   "source": [
    "celsius=int(input(\"Enter temperature in Celsius:\"))\n",
    "def farhenite_coverter(c):\n",
    "    farhenite=(c*9/5)+32\n",
    "    print(f\"Temperature in Fahrenheit:{farhenite}\")\n",
    "\n",
    "farhenite_coverter(celsius)"
   ]
  },
  {
   "cell_type": "markdown",
   "id": "0e893cbb-d6d0-4e1c-bcdf-f38d9809af2e",
   "metadata": {},
   "source": [
    "# 10.\n",
    "\n",
    "**Check Leap Year**"
   ]
  },
  {
   "cell_type": "code",
   "execution_count": 72,
   "id": "a10f062b-6bd5-4e63-b544-3f7636789251",
   "metadata": {},
   "outputs": [
    {
     "name": "stdin",
     "output_type": "stream",
     "text": [
      "Enter The Year To Calculate 2018\n"
     ]
    },
    {
     "name": "stdout",
     "output_type": "stream",
     "text": [
      " 2018 is \"not Leap year\" \n"
     ]
    }
   ],
   "source": [
    "\n",
    "\n",
    "def leap_calculation():\n",
    "    try:\n",
    "      y=int(input(\"Enter The Year To Calculate\"))\n",
    "      if y%4==0:\n",
    "            print(f\"\"\" {y} is \"Leap year\" \"\"\")\n",
    "      else:\n",
    "        print(f\"\"\" {y} is \"not Leap year\" \"\"\")   \n",
    "    except ValueError as ve:\n",
    "        print( f\"{ve}\")\n",
    "      \n",
    "  \n",
    "  \n",
    "\n",
    "leap_calculation()"
   ]
  }
 ],
 "metadata": {
  "kernelspec": {
   "display_name": "Python 3 (ipykernel)",
   "language": "python",
   "name": "python3"
  },
  "language_info": {
   "codemirror_mode": {
    "name": "ipython",
    "version": 3
   },
   "file_extension": ".py",
   "mimetype": "text/x-python",
   "name": "python",
   "nbconvert_exporter": "python",
   "pygments_lexer": "ipython3",
   "version": "3.12.2"
  }
 },
 "nbformat": 4,
 "nbformat_minor": 5
}
